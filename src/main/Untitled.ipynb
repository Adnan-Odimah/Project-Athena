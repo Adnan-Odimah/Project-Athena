{
 "cells": [
  {
   "cell_type": "code",
   "execution_count": 1,
   "id": "57059c4b-6351-47a4-8a9b-9470ab3f1726",
   "metadata": {},
   "outputs": [],
   "source": [
    "import spacy\n",
    "from spacy import displacy\n",
    "\n",
    "nlp = spacy.load(\"en_core_web_md\")"
   ]
  },
  {
   "cell_type": "code",
   "execution_count": 2,
   "id": "83f33aff-3c5b-42a5-bb43-61addda45263",
   "metadata": {},
   "outputs": [],
   "source": [
    "number_dict = {\"zero\": 0, \"one\": 1, \"two\": 2, \"three\": 3, \"four\": 4, \"five\": 5, \"six\": 6, \"seven\": 7, \"eight\": 8, \"nine\": 9, \"ten\": 10, \"eleven\": 11, \"twelve\": 12, \"thirteen\": 13, \"fourteen\": 14, \"fifteen\": 15, \"sixteen\": 16, \"seventeen\": 17, \"eighteen\": 18, \"nineteen\": 19, \"twenty\": 20, \"twenty-one\": 21, \"twenty-two\": 22, \"twenty-three\": 23, \"twenty-four\": 24}\n",
    "time_frames = ['week', 'month', 'year']\n",
    "\n",
    "def visualize_dependency_parse(text):\n",
    "    doc = nlp(text)\n",
    "    displacy.render(doc, style=\"ent\", jupyter=True, options={\"distance\": 100, \"compact\": True})"
   ]
  },
  {
   "cell_type": "code",
   "execution_count": 3,
   "id": "7aced963-67e1-4458-a28f-b6fd8cd153d8",
   "metadata": {},
   "outputs": [],
   "source": [
    "def extract_info(text):\n",
    "    doc = nlp(text)\n",
    "    extracted_info = {\"time\": None, \"date\": None, \"frequency\": None, \"task\": None}\n",
    "\n",
    "    for token in doc:\n",
    "        if token.ent_type_ == \"TIME\":\n",
    "            if token.lower_ in ['am', 'pm']:\n",
    "                continue\n",
    "\n",
    "            children = [c for c in token.children if c.dep_ == \"nummod\"]\n",
    "            if token.head.dep_ == \"pobj\":\n",
    "                if token.text.isdigit():\n",
    "                    extracted_info[\"time\"] = f\"{token.lower_} {token.head.lower_}\"\n",
    "                else:\n",
    "                    extracted_info[\"time\"] = f\"{number_dict[token.lower_]} {token.head.lower_}\"\n",
    "\n",
    "            else:\n",
    "                extracted_info[\"time\"] = token.lower_\n",
    "\n",
    "        if token.ent_type_ == \"DATE\":\n",
    "            children = [c for c in token.children]\n",
    "            if len(children) > 0:\n",
    "                if children[0].dep_ == \"det\":\n",
    "                    extracted_info[\"frequency\"] = f\"{children[0].lower_} {token.lower_}\"\n",
    "                else:\n",
    "                    extracted_info[\"date\"] = f\"{children[0].lower_} {token.lower_}\"\n",
    "            else:\n",
    "                extracted_info[\"date\"] = token.text\n",
    "\n",
    "        if token.pos_ == \"VERB\":\n",
    "            children = [c for c in token.children]\n",
    "            for child in children:\n",
    "                if child.dep_ == \"dobj\":\n",
    "                    extracted_info[\"task\"] = f\"{token.text} {child.text}\"\n",
    "\n",
    "        if token.dep_ == \"compound\":\n",
    "            children = [c for c in token.head.children]\n",
    "            if len(children) == 0:\n",
    "                continue\n",
    "            extracted_info[\"date\"] = f\"{children[0].lower_} {children[1].lower_}\"\n",
    "\n",
    "    return extracted_info"
   ]
  },
  {
   "cell_type": "code",
   "execution_count": 4,
   "id": "e291fdfe-9a16-4e68-87e8-18dd9b20d725",
   "metadata": {},
   "outputs": [
    {
     "data": {
      "text/html": [
       "<span class=\"tex2jax_ignore\"><div class=\"entities\" style=\"line-height: 2.5; direction: ltr\">Remind me to play football \n",
       "<mark class=\"entity\" style=\"background: #bfe1d9; padding: 0.45em 0.6em; margin: 0 0.25em; line-height: 1; border-radius: 0.35em;\">\n",
       "    next monday\n",
       "    <span style=\"font-size: 0.8em; font-weight: bold; line-height: 1; border-radius: 0.35em; vertical-align: middle; margin-left: 0.5rem\">DATE</span>\n",
       "</mark>\n",
       " at \n",
       "<mark class=\"entity\" style=\"background: #bfe1d9; padding: 0.45em 0.6em; margin: 0 0.25em; line-height: 1; border-radius: 0.35em;\">\n",
       "    midday\n",
       "    <span style=\"font-size: 0.8em; font-weight: bold; line-height: 1; border-radius: 0.35em; vertical-align: middle; margin-left: 0.5rem\">TIME</span>\n",
       "</mark>\n",
       "</div></span>"
      ],
      "text/plain": [
       "<IPython.core.display.HTML object>"
      ]
     },
     "metadata": {},
     "output_type": "display_data"
    },
    {
     "name": "stdout",
     "output_type": "stream",
     "text": [
      "{'time': 'midday', 'date': 'next monday', 'frequency': None, 'task': 'play football'}\n"
     ]
    },
    {
     "data": {
      "text/html": [
       "<span class=\"tex2jax_ignore\"><div class=\"entities\" style=\"line-height: 2.5; direction: ltr\">Remind me to submit the report \n",
       "<mark class=\"entity\" style=\"background: #bfe1d9; padding: 0.45em 0.6em; margin: 0 0.25em; line-height: 1; border-radius: 0.35em;\">\n",
       "    next friday\n",
       "    <span style=\"font-size: 0.8em; font-weight: bold; line-height: 1; border-radius: 0.35em; vertical-align: middle; margin-left: 0.5rem\">DATE</span>\n",
       "</mark>\n",
       " \n",
       "<mark class=\"entity\" style=\"background: #bfe1d9; padding: 0.45em 0.6em; margin: 0 0.25em; line-height: 1; border-radius: 0.35em;\">\n",
       "    night\n",
       "    <span style=\"font-size: 0.8em; font-weight: bold; line-height: 1; border-radius: 0.35em; vertical-align: middle; margin-left: 0.5rem\">TIME</span>\n",
       "</mark>\n",
       "</div></span>"
      ],
      "text/plain": [
       "<IPython.core.display.HTML object>"
      ]
     },
     "metadata": {},
     "output_type": "display_data"
    },
    {
     "name": "stdout",
     "output_type": "stream",
     "text": [
      "{'time': 'night', 'date': 'next friday', 'frequency': None, 'task': 'submit report'}\n"
     ]
    },
    {
     "data": {
      "text/html": [
       "<span class=\"tex2jax_ignore\"><div class=\"entities\" style=\"line-height: 2.5; direction: ltr\">Remind me to buy groceries every \n",
       "<mark class=\"entity\" style=\"background: #bfe1d9; padding: 0.45em 0.6em; margin: 0 0.25em; line-height: 1; border-radius: 0.35em;\">\n",
       "    monday\n",
       "    <span style=\"font-size: 0.8em; font-weight: bold; line-height: 1; border-radius: 0.35em; vertical-align: middle; margin-left: 0.5rem\">DATE</span>\n",
       "</mark>\n",
       " at \n",
       "<mark class=\"entity\" style=\"background: #bfe1d9; padding: 0.45em 0.6em; margin: 0 0.25em; line-height: 1; border-radius: 0.35em;\">\n",
       "    two pm\n",
       "    <span style=\"font-size: 0.8em; font-weight: bold; line-height: 1; border-radius: 0.35em; vertical-align: middle; margin-left: 0.5rem\">TIME</span>\n",
       "</mark>\n",
       "</div></span>"
      ],
      "text/plain": [
       "<IPython.core.display.HTML object>"
      ]
     },
     "metadata": {},
     "output_type": "display_data"
    },
    {
     "name": "stdout",
     "output_type": "stream",
     "text": [
      "{'time': '2 pm', 'date': None, 'frequency': 'every monday', 'task': 'buy groceries'}\n"
     ]
    },
    {
     "data": {
      "text/html": [
       "<span class=\"tex2jax_ignore\"><div class=\"entities\" style=\"line-height: 2.5; direction: ltr\">Set an alarm every \n",
       "<mark class=\"entity\" style=\"background: #bfe1d9; padding: 0.45em 0.6em; margin: 0 0.25em; line-height: 1; border-radius: 0.35em;\">\n",
       "    monday\n",
       "    <span style=\"font-size: 0.8em; font-weight: bold; line-height: 1; border-radius: 0.35em; vertical-align: middle; margin-left: 0.5rem\">DATE</span>\n",
       "</mark>\n",
       " at \n",
       "<mark class=\"entity\" style=\"background: #bfe1d9; padding: 0.45em 0.6em; margin: 0 0.25em; line-height: 1; border-radius: 0.35em;\">\n",
       "    3 am\n",
       "    <span style=\"font-size: 0.8em; font-weight: bold; line-height: 1; border-radius: 0.35em; vertical-align: middle; margin-left: 0.5rem\">TIME</span>\n",
       "</mark>\n",
       "</div></span>"
      ],
      "text/plain": [
       "<IPython.core.display.HTML object>"
      ]
     },
     "metadata": {},
     "output_type": "display_data"
    },
    {
     "name": "stdout",
     "output_type": "stream",
     "text": [
      "{'time': '3 am', 'date': None, 'frequency': 'every monday', 'task': 'Set alarm'}\n"
     ]
    },
    {
     "data": {
      "text/html": [
       "<span class=\"tex2jax_ignore\"><div class=\"entities\" style=\"line-height: 2.5; direction: ltr\">Set a timer for \n",
       "<mark class=\"entity\" style=\"background: #bfe1d9; padding: 0.45em 0.6em; margin: 0 0.25em; line-height: 1; border-radius: 0.35em;\">\n",
       "    15 minutes\n",
       "    <span style=\"font-size: 0.8em; font-weight: bold; line-height: 1; border-radius: 0.35em; vertical-align: middle; margin-left: 0.5rem\">TIME</span>\n",
       "</mark>\n",
       "</div></span>"
      ],
      "text/plain": [
       "<IPython.core.display.HTML object>"
      ]
     },
     "metadata": {},
     "output_type": "display_data"
    },
    {
     "name": "stdout",
     "output_type": "stream",
     "text": [
      "{'time': 'minutes', 'date': None, 'frequency': None, 'task': 'Set timer'}\n"
     ]
    },
    {
     "data": {
      "text/html": [
       "<span class=\"tex2jax_ignore\"><div class=\"entities\" style=\"line-height: 2.5; direction: ltr\">Remind me to go to the gym \n",
       "<mark class=\"entity\" style=\"background: #bfe1d9; padding: 0.45em 0.6em; margin: 0 0.25em; line-height: 1; border-radius: 0.35em;\">\n",
       "    every 15 minutes\n",
       "    <span style=\"font-size: 0.8em; font-weight: bold; line-height: 1; border-radius: 0.35em; vertical-align: middle; margin-left: 0.5rem\">TIME</span>\n",
       "</mark>\n",
       "</div></span>"
      ],
      "text/plain": [
       "<IPython.core.display.HTML object>"
      ]
     },
     "metadata": {},
     "output_type": "display_data"
    },
    {
     "name": "stdout",
     "output_type": "stream",
     "text": [
      "{'time': 'minutes', 'date': None, 'frequency': None, 'task': 'Remind me'}\n"
     ]
    },
    {
     "data": {
      "text/html": [
       "<span class=\"tex2jax_ignore\"><div class=\"entities\" style=\"line-height: 2.5; direction: ltr\">Remind me to clap my hands \n",
       "<mark class=\"entity\" style=\"background: #bfe1d9; padding: 0.45em 0.6em; margin: 0 0.25em; line-height: 1; border-radius: 0.35em;\">\n",
       "    every 2 hours\n",
       "    <span style=\"font-size: 0.8em; font-weight: bold; line-height: 1; border-radius: 0.35em; vertical-align: middle; margin-left: 0.5rem\">TIME</span>\n",
       "</mark>\n",
       "</div></span>"
      ],
      "text/plain": [
       "<IPython.core.display.HTML object>"
      ]
     },
     "metadata": {},
     "output_type": "display_data"
    },
    {
     "name": "stdout",
     "output_type": "stream",
     "text": [
      "{'time': 'hours', 'date': None, 'frequency': None, 'task': 'clap hands'}\n"
     ]
    },
    {
     "data": {
      "text/html": [
       "<span class=\"tex2jax_ignore\"><div class=\"entities\" style=\"line-height: 2.5; direction: ltr\">Remind me to go to the supermarket \n",
       "<mark class=\"entity\" style=\"background: #bfe1d9; padding: 0.45em 0.6em; margin: 0 0.25em; line-height: 1; border-radius: 0.35em;\">\n",
       "    every week\n",
       "    <span style=\"font-size: 0.8em; font-weight: bold; line-height: 1; border-radius: 0.35em; vertical-align: middle; margin-left: 0.5rem\">DATE</span>\n",
       "</mark>\n",
       "</div></span>"
      ],
      "text/plain": [
       "<IPython.core.display.HTML object>"
      ]
     },
     "metadata": {},
     "output_type": "display_data"
    },
    {
     "name": "stdout",
     "output_type": "stream",
     "text": [
      "{'time': None, 'date': 'every', 'frequency': 'every week', 'task': 'Remind me'}\n"
     ]
    }
   ],
   "source": [
    "# Test the function with examples\n",
    "sentences = [\n",
    "    \"Remind me to play football next monday at midday\",\n",
    "    \"Remind me to submit the report next friday night\",\n",
    "    \"Remind me to buy groceries every monday at two pm\",\n",
    "    \"Set an alarm every monday at 3 am\",\n",
    "    \"Set a timer for 15 minutes\",\n",
    "    \"Remind me to go to the gym every 15 minutes\",\n",
    "    \"Remind me to clap my hands every 2 hours\",\n",
    "    \"Remind me to go to the supermarket every week\",\n",
    "]\n",
    "\n",
    "for sentence in sentences:\n",
    "    visualize_dependency_parse(sentence)\n",
    "    print(extract_info(sentence))\n",
    "\n"
   ]
  },
  {
   "cell_type": "code",
   "execution_count": 5,
   "id": "beb8905f-5893-4864-9094-fd06a9c30571",
   "metadata": {},
   "outputs": [],
   "source": [
    "import spacy\n",
    "\n",
    "class Context:\n",
    "    \"\"\"\n",
    "    class used to obtain the context for different cases throughout Athena\n",
    "    \"\"\"\n",
    "    def __init__(self):\n",
    "        self.nlp = spacy.load(\"en_core_web_md\")\n",
    "        self.number_dict = {\"zero\": 0, \"one\": 1, \"two\": 2, \"three\": 3, \"four\": 4, \"five\": 5, \"six\": 6, \"seven\": 7, \"eight\": 8, \"nine\": 9, \"ten\": 10, \"eleven\": 11, \"twelve\": 12, \"thirteen\": 13, \"fourteen\": 14, \"fifteen\": 15, \"sixteen\": 16, \"seventeen\": 17, \"eighteen\": 18, \"nineteen\": 19, \"twenty\": 20, \"twenty-one\": 21, \"twenty-two\": 22, \"twenty-three\": 23, \"twenty-four\": 24}\n",
    "\n",
    "    def get_reminders_context(self, sentence: str) -> dict:\n",
    "        #TODO: fix for sentences that use compound clauses\n",
    "        # e.g. do x next friday night, only gets friday but not \"next\"\n",
    "        \"\"\"Gets the context for the reminders\n",
    "\n",
    "        Args:\n",
    "            sentence (str): the sentence to get context from\n",
    "\n",
    "        Returns:\n",
    "            dict: a dictionary containing keys for time, date, frequency, and task\n",
    "        \"\"\"\n",
    "        doc = self.nlp(sentence)\n",
    "        extracted_info = {\"time\": None, \"date\": None, \"frequency\": None, \"task\": None}\n",
    "\n",
    "        for token in doc:\n",
    "            task = self.check_task(token)\n",
    "            if task:\n",
    "                extracted_info[\"task\"] = task\n",
    "\n",
    "            time = self.check_time(token)\n",
    "            if time:\n",
    "                extracted_info[\"time\"] = time\n",
    "\n",
    "\n",
    "\n",
    "            if token.ent_type_ == \"DATE\":\n",
    "                children = [c for c in token.children]\n",
    "                if len(children) > 0:\n",
    "                    if children[0].dep_ == \"det\":\n",
    "                        extracted_info[\"frequency\"] = f\"{children[0].lower_} {token.lower_}\"\n",
    "                    else:\n",
    "                        extracted_info[\"date\"] = f\"{children[0].lower_} {token.lower_}\"\n",
    "                else:\n",
    "                    extracted_info[\"date\"] = token.text\n",
    "\n",
    "\n",
    "\n",
    "            if token.dep_ == \"compound\":\n",
    "                children = [c for c in token.head.children]\n",
    "                if len(children) == 0:\n",
    "                    continue\n",
    "                extracted_info[\"date\"] = f\"{children[0].lower_} {children[1].lower_}\"\n",
    "\n",
    "        return extracted_info\n",
    "\n",
    "    def check_task(self, token) -> str:\n",
    "        \"\"\"checks if the current token is the task and returns it\n",
    "\n",
    "        Args:\n",
    "            token (Spacy.Token): token to check\n",
    "\n",
    "        Returns:\n",
    "            str: the task to be done\n",
    "        \"\"\"\n",
    "        task = None\n",
    "\n",
    "        if token.pos_ == \"VERB\":\n",
    "            children = [c for c in token.children]\n",
    "            for child in children:\n",
    "                if child.dep_ == \"dobj\":\n",
    "                    task = f\"{token.text} {child.text}\"\n",
    "\n",
    "        return task\n",
    "\n",
    "    def check_time(self, token) -> str:\n",
    "        \"\"\"checks if the current token is the time and returns it\n",
    "\n",
    "        Args:\n",
    "            token (Spacy.Token): token to check\n",
    "\n",
    "        Returns:\n",
    "            str: the time to be done\n",
    "        \"\"\"\n",
    "        time = None\n",
    "\n",
    "        if token.ent_type_ == \"TIME\":\n",
    "            if token.lower_ in ['am', 'pm']:\n",
    "                return None\n",
    "\n",
    "            if token.head.dep_ == \"pobj\":\n",
    "                if token.text.isdigit():\n",
    "                    time = f\"{token.lower_} {token.head.lower_}\"\n",
    "                else:\n",
    "                    time = f\"{self.number_dict[token.lower_]} {token.head.lower_}\"\n",
    "\n",
    "            else:\n",
    "                time = token.lower_\n",
    "\n",
    "        return time\n"
   ]
  },
  {
   "cell_type": "code",
   "execution_count": 6,
   "id": "4b6c596a-5744-44d2-b0c6-e4d8137676f7",
   "metadata": {},
   "outputs": [
    {
     "name": "stdout",
     "output_type": "stream",
     "text": [
      "{'time': 'midday', 'date': 'next monday', 'frequency': None, 'task': 'play football'}\n",
      "{'time': 'night', 'date': 'next friday', 'frequency': None, 'task': 'submit report'}\n",
      "{'time': '2 pm', 'date': None, 'frequency': 'every monday', 'task': 'buy groceries'}\n",
      "{'time': '3 am', 'date': None, 'frequency': 'every monday', 'task': 'Set alarm'}\n",
      "{'time': 'minutes', 'date': None, 'frequency': None, 'task': 'Set timer'}\n",
      "{'time': 'minutes', 'date': None, 'frequency': None, 'task': 'Remind me'}\n",
      "{'time': 'hours', 'date': None, 'frequency': None, 'task': 'clap hands'}\n",
      "{'time': None, 'date': 'every', 'frequency': 'every week', 'task': 'Remind me'}\n"
     ]
    }
   ],
   "source": [
    "for sentence in sentences:\n",
    "    print(Context().get_reminders_context(sentence))"
   ]
  },
  {
   "cell_type": "code",
   "execution_count": null,
   "id": "d76ffe00-59d1-47bc-9ad6-71e43fac4622",
   "metadata": {},
   "outputs": [],
   "source": []
  }
 ],
 "metadata": {
  "kernelspec": {
   "display_name": "Python 3 (ipykernel)",
   "language": "python",
   "name": "python3"
  },
  "language_info": {
   "codemirror_mode": {
    "name": "ipython",
    "version": 3
   },
   "file_extension": ".py",
   "mimetype": "text/x-python",
   "name": "python",
   "nbconvert_exporter": "python",
   "pygments_lexer": "ipython3",
   "version": "3.10.0"
  }
 },
 "nbformat": 4,
 "nbformat_minor": 5
}
